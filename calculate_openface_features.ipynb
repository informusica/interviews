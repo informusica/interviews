{
 "cells": [
  {
   "cell_type": "code",
   "execution_count": null,
   "metadata": {
    "collapsed": true
   },
   "outputs": [],
   "source": [
    "import glob\n",
    "import os\n",
    "import shutil"
   ]
  },
  {
   "cell_type": "code",
   "execution_count": null,
   "metadata": {
    "collapsed": false
   },
   "outputs": [],
   "source": [
    "def calculate_openface_features(full_path_to_video, \\\n",
    "                                path_to_openface_feature_extraction_binary, \\\n",
    "                                path_to_ffmpeg_binary, \\\n",
    "                                path_to_csv_results_folder, \\\n",
    "                                path_to_face_video_folder):\n",
    "    # this is where the face images will be temporarily stored\n",
    "    temporary_directory = 'tmp'\n",
    "    os.mkdir(temporary_directory)\n",
    "    \n",
    "    video_name = os.path.basename(full_path_to_video)[:-4]\n",
    "    \n",
    "    feature_extraction_command = '%s -f %s -of %s.csv -world_coord 0 -simalign %s -simsize 128 -q' % (path_to_openface_feature_extraction_binary, full_path_to_video, os.path.join(path_to_csv_results_folder, video_name), temporary_directory)\n",
    "    print feature_extraction_command\n",
    "    # run FeatureExtraction binary\n",
    "    os.system(feature_extraction_command)\n",
    "    \n",
    "    # run ffmpeg to make a video\n",
    "    ffmpeg_command = '%s -i %s -vf format=yuv420p %s.mp4' % (path_to_ffmpeg_binary, os.path.join(temporary_directory, 'frame_det_%06d.bmp'), os.path.join(path_to_face_video_folder, video_name))\n",
    "    print ffmpeg_command\n",
    "    os.system(ffmpeg_command)\n",
    "                                                             \n",
    "    shutil.rmtree(temporary_directory)"
   ]
  },
  {
   "cell_type": "code",
   "execution_count": null,
   "metadata": {
    "collapsed": false
   },
   "outputs": [],
   "source": [
    "def calculate_openface_features_for_folder(folder, \\\n",
    "                                           path_to_openface_feature_extraction_binary, \\\n",
    "                                           path_to_ffmpeg_binary, \\\n",
    "                                           path_to_csv_results_folder, \\\n",
    "                                           path_to_face_video_folder):\n",
    "    \n",
    "    for video_file in glob.glob(os.path.join(folder, '*.mp4')):\n",
    "    \n",
    "        # ignore Mac hidden files\n",
    "        if not video_file[0] is '.':\n",
    "            full_path_to_video = os.path.abspath(video_file)\n",
    "            print 'calculating features for %s' % full_path_to_video\n",
    "            calculate_openface_features(full_path_to_video, path_to_openface_feature_extraction_binary, path_to_ffmpeg_binary, path_to_csv_results_folder, path_to_face_video_folder)\n",
    "\n",
    "    return"
   ]
  },
  {
   "cell_type": "code",
   "execution_count": null,
   "metadata": {
    "collapsed": true
   },
   "outputs": [],
   "source": [
    "def calculate_openface_features_for_split(split, \\\n",
    "                                          path_to_openface_feature_extraction_binary, \\\n",
    "                                          path_to_ffmpeg_binary, \\\n",
    "                                          path_to_csv_results_folder, \\\n",
    "                                          path_to_face_video_folder):\n",
    "    \n",
    "    folder_contents = os.listdir(split)\n",
    "        \n",
    "    for folder_content in folder_contents:\n",
    "        if os.path.isdir(os.path.join(split, folder_content)) and not folder_content[0] is '.':\n",
    "            print 'ENTERING FOLDER %s' % folder_content\n",
    "            calculate_openface_features_for_folder(os.path.join(split, folder_content), path_to_openface_feature_extraction_binary, path_to_ffmpeg_binary, path_to_csv_results_folder, path_to_face_video_folder)\n"
   ]
  },
  {
   "cell_type": "markdown",
   "metadata": {},
   "source": [
    "## Sample calls"
   ]
  },
  {
   "cell_type": "code",
   "execution_count": null,
   "metadata": {
    "collapsed": true
   },
   "outputs": [],
   "source": [
    "path_to_openface_feature_extraction_binary = '/YOUR/PATH/TO/FEATUREEXTRACTION'\n",
    "path_to_ffmpeg_binary = '/YOUR/PATH/TO/FFMPEG'\n",
    "path_to_csv_results_folder = '/YOUR/PATH/TO/CSV/RESULTS'\n",
    "path_to_face_video_folder = '/YOUR/PATH/TO/FACEVIDEO/RESULTS'"
   ]
  },
  {
   "cell_type": "code",
   "execution_count": null,
   "metadata": {
    "collapsed": false
   },
   "outputs": [],
   "source": [
    "full_path_to_video = 'YOUR/PATH/TO/SOME/MP4'\n",
    "calculate_openface_features(full_path_to_video, \\\n",
    "                            path_to_openface_feature_extraction_binary, \\\n",
    "                            path_to_ffmpeg_binary, \\\n",
    "                            path_to_csv_results_folder, \\\n",
    "                            path_to_face_video_folder)"
   ]
  },
  {
   "cell_type": "code",
   "execution_count": null,
   "metadata": {
    "collapsed": true
   },
   "outputs": [],
   "source": [
    "folder = 'YOUR/PATH/TO/SOME/FOLDER'\n",
    "calculate_openface_features_for_folder(folder, \\\n",
    "                            path_to_openface_feature_extraction_binary, \\\n",
    "                            path_to_ffmpeg_binary, \\\n",
    "                            path_to_csv_results_folder, \\\n",
    "                            path_to_face_video_folder)"
   ]
  },
  {
   "cell_type": "code",
   "execution_count": null,
   "metadata": {
    "collapsed": false
   },
   "outputs": [],
   "source": [
    "split = 'YOUR/PATH/TO/SOME/SPLIT'\n",
    "calculate_openface_features_for_split(split, \\\n",
    "                            path_to_openface_feature_extraction_binary, \\\n",
    "                            path_to_ffmpeg_binary, \\\n",
    "                            path_to_csv_results_folder, \\\n",
    "                            path_to_face_video_folder)"
   ]
  }
 ],
 "metadata": {
  "kernelspec": {
   "display_name": "Python 2",
   "language": "python",
   "name": "python2"
  },
  "language_info": {
   "codemirror_mode": {
    "name": "ipython",
    "version": 2
   },
   "file_extension": ".py",
   "mimetype": "text/x-python",
   "name": "python",
   "nbconvert_exporter": "python",
   "pygments_lexer": "ipython2",
   "version": "2.7.13"
  }
 },
 "nbformat": 4,
 "nbformat_minor": 2
}
