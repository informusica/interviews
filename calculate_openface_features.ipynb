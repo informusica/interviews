{
 "cells": [
  {
   "cell_type": "code",
   "execution_count": 27,
   "metadata": {
    "collapsed": true
   },
   "outputs": [],
   "source": [
    "import glob\n",
    "import os\n",
    "import shutil"
   ]
  },
  {
   "cell_type": "code",
   "execution_count": 28,
   "metadata": {
    "collapsed": false
   },
   "outputs": [],
   "source": [
    "def calculate_openface_features(full_path_to_video, \\\n",
    "                                path_to_openface_feature_extraction_binary, \\\n",
    "                                path_to_ffmpeg_binary, \\\n",
    "                                path_to_csv_results_folder, \\\n",
    "                                path_to_face_video_folder):\n",
    "    # this is where the face images will be temporarily stored\n",
    "    temporary_directory = 'tmp'\n",
    "    os.mkdir(temporary_directory)\n",
    "    \n",
    "    video_name = os.path.basename(full_path_to_video)[:-4]\n",
    "    \n",
    "    feature_extraction_command = '%s -f %s -of %s.csv -world_coord 0 -simalign %s -simsize 128 -q' % (path_to_openface_feature_extraction_binary, full_path_to_video, os.path.join(path_to_csv_results_folder, video_name), temporary_directory)\n",
    "    print feature_extraction_command\n",
    "    # run FeatureExtraction binary\n",
    "    os.system(feature_extraction_command)\n",
    "    \n",
    "    # run ffmpeg to make a video\n",
    "    ffmpeg_command = '%s -i %s -vf format=yuv420p %s.mp4' % (path_to_ffmpeg_binary, os.path.join(temporary_directory, 'frame_det_%06d.bmp'), os.path.join(path_to_face_video_folder, video_name))\n",
    "    print ffmpeg_command\n",
    "    os.system(ffmpeg_command)\n",
    "                                                             \n",
    "    shutil.rmtree(temporary_directory)"
   ]
  },
  {
   "cell_type": "code",
   "execution_count": 29,
   "metadata": {
    "collapsed": false
   },
   "outputs": [],
   "source": [
    "full_path_to_video = '/Users/cynthia/data/ChaLearn/train/train-1/training80_01/_uNup91ZYw0.002.mp4'\n",
    "path_to_openface_feature_extraction_binary = '/Users/cynthia/gitlocal/OpenFace/bin/FeatureExtraction'\n",
    "path_to_ffmpeg_binary = 'ffmpeg'\n",
    "path_to_csv_results_folder = 'csv_results'\n",
    "path_to_face_video_folder = 'face_results'"
   ]
  },
  {
   "cell_type": "code",
   "execution_count": 26,
   "metadata": {
    "collapsed": false
   },
   "outputs": [
    {
     "name": "stdout",
     "output_type": "stream",
     "text": [
      "/Users/cynthia/gitlocal/OpenFace/bin/FeatureExtraction -f /Users/cynthia/data/ChaLearn/train/train-1/training80_01/_uNup91ZYw0.002.mp4 -of csv_results/_uNup91ZYw0.002.csv -world_coord 0 -simalign tmp -simsize 128 -q\n",
      "ffmpeg -i tmp/frame_det_%%06d.bmp -vf format=yuv420p face_results/_uNup91ZYw0.002.mp4\n"
     ]
    },
    {
     "ename": "OSError",
     "evalue": "[Errno 66] Directory not empty: 'tmp'",
     "output_type": "error",
     "traceback": [
      "\u001b[0;31m---------------------------------------------------------------------------\u001b[0m",
      "\u001b[0;31mOSError\u001b[0m                                   Traceback (most recent call last)",
      "\u001b[0;32m<ipython-input-26-d17a425af9f6>\u001b[0m in \u001b[0;36m<module>\u001b[0;34m()\u001b[0m\n\u001b[0;32m----> 1\u001b[0;31m \u001b[0mcalculate_openface_features\u001b[0m\u001b[0;34m(\u001b[0m\u001b[0mfull_path_to_video\u001b[0m\u001b[0;34m,\u001b[0m                                 \u001b[0mpath_to_openface_feature_extraction_binary\u001b[0m\u001b[0;34m,\u001b[0m                                 \u001b[0mpath_to_ffmpeg_binary\u001b[0m\u001b[0;34m,\u001b[0m                                 \u001b[0mpath_to_csv_results_folder\u001b[0m\u001b[0;34m,\u001b[0m                                 \u001b[0mpath_to_face_video_folder\u001b[0m\u001b[0;34m)\u001b[0m\u001b[0;34m\u001b[0m\u001b[0m\n\u001b[0m",
      "\u001b[0;32m<ipython-input-23-34f50862ba3c>\u001b[0m in \u001b[0;36mcalculate_openface_features\u001b[0;34m(full_path_to_video, path_to_openface_feature_extraction_binary, path_to_ffmpeg_binary, path_to_csv_results_folder, path_to_face_video_folder)\u001b[0m\n\u001b[1;32m     16\u001b[0m     \u001b[0mos\u001b[0m\u001b[0;34m.\u001b[0m\u001b[0msystem\u001b[0m\u001b[0;34m(\u001b[0m\u001b[0mffmpeg_command\u001b[0m\u001b[0;34m)\u001b[0m\u001b[0;34m\u001b[0m\u001b[0m\n\u001b[1;32m     17\u001b[0m \u001b[0;34m\u001b[0m\u001b[0m\n\u001b[0;32m---> 18\u001b[0;31m     \u001b[0mos\u001b[0m\u001b[0;34m.\u001b[0m\u001b[0mrmdir\u001b[0m\u001b[0;34m(\u001b[0m\u001b[0mtemporary_directory\u001b[0m\u001b[0;34m)\u001b[0m\u001b[0;34m\u001b[0m\u001b[0m\n\u001b[0m",
      "\u001b[0;31mOSError\u001b[0m: [Errno 66] Directory not empty: 'tmp'"
     ]
    }
   ],
   "source": [
    "calculate_openface_features(full_path_to_video, \\\n",
    "                            path_to_openface_feature_extraction_binary, \\\n",
    "                            path_to_ffmpeg_binary, \\\n",
    "                            path_to_csv_results_folder, \\\n",
    "                            path_to_face_video_folder)"
   ]
  }
 ],
 "metadata": {
  "kernelspec": {
   "display_name": "Python 2",
   "language": "python",
   "name": "python2"
  },
  "language_info": {
   "codemirror_mode": {
    "name": "ipython",
    "version": 2
   },
   "file_extension": ".py",
   "mimetype": "text/x-python",
   "name": "python",
   "nbconvert_exporter": "python",
   "pygments_lexer": "ipython2",
   "version": "2.7.13"
  }
 },
 "nbformat": 4,
 "nbformat_minor": 2
}
